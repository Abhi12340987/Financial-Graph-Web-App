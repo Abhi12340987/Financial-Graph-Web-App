{
 "cells": [
  {
   "cell_type": "code",
   "execution_count": 76,
   "metadata": {},
   "outputs": [],
   "source": [
    "from pandas_datareader import data\n",
    "import datetime\n",
    "from bokeh.plotting import figure, show, output_file\n",
    "from bokeh.embed import components\n",
    "from bokeh.resources import CDN\n",
    "\n",
    "start = datetime.datetime(2015,11,1)\n",
    "end = datetime.datetime(2016,3,10)\n",
    "\n",
    "df = data.DataReader(name= \"GOOG\", data_source = \"yahoo\", start = start, end = end)\n",
    "\n",
    "\n",
    "def inc_dec(c, o):\n",
    "    if c > o:\n",
    "        value = \"Increase\"\n",
    "    elif c < o:\n",
    "        value = \"Decrease\"\n",
    "    else:\n",
    "        value = \"Equal\"\n",
    "    return value\n",
    "\n",
    "df[\"Status\"] = [inc_dec(c, o) for c, o in zip(df.Close, df.Open)]\n",
    "df[\"Middle\"] = (df.Open + df.Close)/2\n",
    "df[\"Height\"] = abs(df.Open - df.Close)\n",
    "\n",
    "df\n",
    "\n",
    "p = figure(x_axis_type= 'datetime', width = 1000, height = 300, sizing_mode = \"scale_width\") #sizing_mode makes it reponsive\n",
    "\n",
    "p.title.text = \"Candlestick Chart\"\n",
    "p.grid.grid_line_alpha = 0.3\n",
    "\n",
    "hours_12 = 12*60*60*1000\n",
    "\n",
    "p.segment(df.index, df.High, df.index, df.Low, color = \"Black\")\n",
    "\n",
    "p.rect(df.index[df.Status == \"Increase\"], df.Middle[df.Status == \"Increase\"], hours_12, df.Height[df.Status == \"Increase\"], fill_color = \"#CCFFFF\", line_color = \"blue\")\n",
    "\n",
    "p.rect(df.index[df.Status == \"Decrease\"], df.Middle[df.Status == \"Decrease\"], hours_12, df.Height[df.Status == \"Decrease\"], fill_color = \"#FF3333\", line_color = \"blue\")\n",
    "\n",
    "script1 = components(p)\n",
    "cdn_js = CDN.js_files\n",
    "#cdn_css = CDN.css_files\n",
    "\n",
    "#output_file(\"cs.html\") #export an html file of the chart\n",
    "\n",
    "show(p) #display the chart\n"
   ]
  },
  {
   "cell_type": "code",
   "execution_count": 68,
   "metadata": {},
   "outputs": [
    {
     "name": "stdout",
     "output_type": "stream",
     "text": [
      "\n",
      "<script type=\"text/javascript\">\n",
      "    (function() {\n",
      "          var fn = function() {\n",
      "            Bokeh.safely(function() {\n",
      "              (function(root) {\n",
      "                function embed_document(root) {\n",
      "                  \n",
      "                var docs_json = '{&quot;907a7421-28e1-435d-9098-eb5c6400cdf0&quot;:{&quot;roots&quot;:{&quot;references&quot;:[{&quot;attributes&quot;:{&quot;days&quot;:[1,4,7,10,13,16,19,22,25,28]},&quot;id&quot;:&quot;7918&quot;,&quot;type&quot;:&quot;DaysTicker&quot;},{&quot;attributes&quot;:{&quot;formatter&quot;:{&quot;id&quot;:&quot;7912&quot;},&quot;ticker&quot;:{&quot;id&quot;:&quot;7875&quot;}},&quot;id&quot;:&quot;7874&quot;,&quot;type&quot;:&quot;LinearAxis&quot;},{&quot;attributes&quot;:{},&quot;id&quot;:&quot;7926&quot;,&quot;type&quot;:&quot;Selection&quot;},{&quot;attributes&quot;:{},&quot;id&quot;:&quot;7862&quot;,&quot;type&quot;:&quot;DataRange1d&quot;},{&quot;attributes&quot;:{},&quot;id&quot;:&quot;7927&quot;,&quot;type&quot;:&quot;UnionRenderers&quot;},{&quot;attributes&quot;:{&quot;days&quot;:[1,8,15,22]},&quot;id&quot;:&quot;7919&quot;,&quot;type&quot;:&quot;DaysTicker&quot;},{&quot;attributes&quot;:{&quot;data&quot;:{&quot;height&quot;:{&quot;__ndarray__&quot;:&quot;AAAAAJgZJEAAAAAAYGYKQAAAAACgcBhAAAAAAAB7/D8AAAAAgBQCQAAAAAAgXA9AAAAAACCFB0AAAAAAAHDNPwAAAABYuCpAAAAAAAjXKEAAAAAA0CMkQAAAAAAAgIQ/AAAAAMDM/D8AAAAAFO4zQAAAAACIaytAAAAAAIDrEUAAAAAAkOsXQAAAAAAYLiBAAAAAAIA9+j8AAAAAGC4jQAAAAADo0SNAAAAAAHA9K0AAAAAAYI8RQAAAAAAQriJAAAAAAMBHAUAAAAAAGK4jQAAAAADgoxFAAAAAAIBm+j8AAAAA6HohQAAAAAAI1yZAAAAAAMCj+D8AAAAAsMctQAAAAADwKBdAAAAAAFA4IEAAAAAAuJ4kQAAAAAAQhRdAAAAAALBHJUAAAAAAwPUWQAAAAABIYS5AAAAAABCFFUAAAAAAgBQbQAAAAADQzBJA&quot;,&quot;dtype&quot;:&quot;float64&quot;,&quot;order&quot;:&quot;little&quot;,&quot;shape&quot;:[42]},&quot;x&quot;:{&quot;__ndarray__&quot;:&quot;AADA5FcMdUIAAIBKqgx1QgAAQLD8DHVCAAAAFk8NdUIAAMB7oQ11QgAAwBLrDnVCAACAeD0PdUIAAEDejw91QgAAQHXZEHVCAADAQH4RdUIAAEAMIxJ1QgAAAAm/E3VCAACA1GMUdUIAAIBrrRV1QgAAwJykFnVCAADAM+4XdUIAAECW3Bl1QgAAwGGBGnVCAACAXh0cdUIAAMAmXh51QgAAgIywHnVCAACAukMhdUIAAAAdMiN1QgAAgOjWI3VCAABATikkdUIAAABLxSV1QgAAwLAXJnVCAACAFmomdUIAAAB5WCh1QgAAwN6qKHVCAAAAEKIpdUIAAEDY4it1QgAAAD41LHVCAACACdosdUIAAABsyC51QgAAgDdtL3VCAABANAkxdUIAAACaWzF1QgAAwJb3MnVCAAAAXzg1dUIAAMDEijV1QgAAgCrdNXVC&quot;,&quot;dtype&quot;:&quot;float64&quot;,&quot;order&quot;:&quot;little&quot;,&quot;shape&quot;:[42]},&quot;y&quot;:{&quot;__ndarray__&quot;:&quot;AAAAEK5ghkAAAABwFISGQAAAAKBwqIZAAAAAQOHShkAAAABACuWGQAAAAFDhsoZAAAAAsHDvhkAAAACA69iGQAAAAHA9koZAAAAA8FHuhkAAAAAghXyHQAAAAAApYYdAAAAAUOFqh0AAAACQmaiHQAAAANCjv4dAAAAAQArBh0AAAABwPUaHQAAAADBckIdAAAAAoJlXh0AAAABQuK2HQAAAAPAoHYhAAAAA4HoGh0AAAAAAAJ+GQAAAAGBmMIZAAAAAwPWqhUAAAABwPayFQAAAAIAUA4ZAAAAAYGajhkAAAABQuLSGQAAAAJDrCYdAAAAAENd5h0AAAAAgXBqFQAAAAFC4GYVAAAAAoHA4hUAAAADQ9fmFQAAAAJDCz4VAAAAAgOuxhUAAAABACveFQAAAAFC4OYZAAAAAcD2ahUAAAAAA1+6FQAAAAJDCM4ZA&quot;,&quot;dtype&quot;:&quot;float64&quot;,&quot;order&quot;:&quot;little&quot;,&quot;shape&quot;:[42]}},&quot;selected&quot;:{&quot;id&quot;:&quot;7928&quot;},&quot;selection_policy&quot;:{&quot;id&quot;:&quot;7929&quot;}},&quot;id&quot;:&quot;7898&quot;,&quot;type&quot;:&quot;ColumnDataSource&quot;},{&quot;attributes&quot;:{&quot;below&quot;:[{&quot;id&quot;:&quot;7870&quot;}],&quot;center&quot;:[{&quot;id&quot;:&quot;7873&quot;},{&quot;id&quot;:&quot;7877&quot;}],&quot;left&quot;:[{&quot;id&quot;:&quot;7874&quot;}],&quot;plot_height&quot;:300,&quot;plot_width&quot;:1000,&quot;renderers&quot;:[{&quot;id&quot;:&quot;7896&quot;},{&quot;id&quot;:&quot;7901&quot;},{&quot;id&quot;:&quot;7906&quot;}],&quot;sizing_mode&quot;:&quot;scale_width&quot;,&quot;title&quot;:{&quot;id&quot;:&quot;7892&quot;},&quot;toolbar&quot;:{&quot;id&quot;:&quot;7885&quot;},&quot;x_range&quot;:{&quot;id&quot;:&quot;7862&quot;},&quot;x_scale&quot;:{&quot;id&quot;:&quot;7866&quot;},&quot;y_range&quot;:{&quot;id&quot;:&quot;7864&quot;},&quot;y_scale&quot;:{&quot;id&quot;:&quot;7868&quot;}},&quot;id&quot;:&quot;7861&quot;,&quot;subtype&quot;:&quot;Figure&quot;,&quot;type&quot;:&quot;Plot&quot;},{&quot;attributes&quot;:{&quot;fill_color&quot;:{&quot;value&quot;:&quot;#CCFFFF&quot;},&quot;height&quot;:{&quot;field&quot;:&quot;height&quot;,&quot;units&quot;:&quot;data&quot;},&quot;line_color&quot;:{&quot;value&quot;:&quot;blue&quot;},&quot;width&quot;:{&quot;units&quot;:&quot;data&quot;,&quot;value&quot;:43200000},&quot;x&quot;:{&quot;field&quot;:&quot;x&quot;},&quot;y&quot;:{&quot;field&quot;:&quot;y&quot;}},&quot;id&quot;:&quot;7899&quot;,&quot;type&quot;:&quot;Rect&quot;},{&quot;attributes&quot;:{},&quot;id&quot;:&quot;7878&quot;,&quot;type&quot;:&quot;PanTool&quot;},{&quot;attributes&quot;:{},&quot;id&quot;:&quot;7910&quot;,&quot;type&quot;:&quot;DatetimeTickFormatter&quot;},{&quot;attributes&quot;:{},&quot;id&quot;:&quot;7875&quot;,&quot;type&quot;:&quot;BasicTicker&quot;},{&quot;attributes&quot;:{},&quot;id&quot;:&quot;7928&quot;,&quot;type&quot;:&quot;Selection&quot;},{&quot;attributes&quot;:{},&quot;id&quot;:&quot;7912&quot;,&quot;type&quot;:&quot;BasicTickFormatter&quot;},{&quot;attributes&quot;:{&quot;formatter&quot;:{&quot;id&quot;:&quot;7910&quot;},&quot;ticker&quot;:{&quot;id&quot;:&quot;7871&quot;}},&quot;id&quot;:&quot;7870&quot;,&quot;type&quot;:&quot;DatetimeAxis&quot;},{&quot;attributes&quot;:{&quot;fill_alpha&quot;:{&quot;value&quot;:0.1},&quot;fill_color&quot;:{&quot;value&quot;:&quot;#CCFFFF&quot;},&quot;height&quot;:{&quot;field&quot;:&quot;height&quot;,&quot;units&quot;:&quot;data&quot;},&quot;line_alpha&quot;:{&quot;value&quot;:0.1},&quot;line_color&quot;:{&quot;value&quot;:&quot;blue&quot;},&quot;width&quot;:{&quot;units&quot;:&quot;data&quot;,&quot;value&quot;:43200000},&quot;x&quot;:{&quot;field&quot;:&quot;x&quot;},&quot;y&quot;:{&quot;field&quot;:&quot;y&quot;}},&quot;id&quot;:&quot;7900&quot;,&quot;type&quot;:&quot;Rect&quot;},{&quot;attributes&quot;:{&quot;days&quot;:[1,15]},&quot;id&quot;:&quot;7920&quot;,&quot;type&quot;:&quot;DaysTicker&quot;},{&quot;attributes&quot;:{&quot;months&quot;:[0,2,4,6,8,10]},&quot;id&quot;:&quot;7922&quot;,&quot;type&quot;:&quot;MonthsTicker&quot;},{&quot;attributes&quot;:{},&quot;id&quot;:&quot;7929&quot;,&quot;type&quot;:&quot;UnionRenderers&quot;},{&quot;attributes&quot;:{&quot;num_minor_ticks&quot;:5,&quot;tickers&quot;:[{&quot;id&quot;:&quot;7914&quot;},{&quot;id&quot;:&quot;7915&quot;},{&quot;id&quot;:&quot;7916&quot;},{&quot;id&quot;:&quot;7917&quot;},{&quot;id&quot;:&quot;7918&quot;},{&quot;id&quot;:&quot;7919&quot;},{&quot;id&quot;:&quot;7920&quot;},{&quot;id&quot;:&quot;7921&quot;},{&quot;id&quot;:&quot;7922&quot;},{&quot;id&quot;:&quot;7923&quot;},{&quot;id&quot;:&quot;7924&quot;},{&quot;id&quot;:&quot;7925&quot;}]},&quot;id&quot;:&quot;7871&quot;,&quot;type&quot;:&quot;DatetimeTicker&quot;},{&quot;attributes&quot;:{&quot;data&quot;:{&quot;height&quot;:{&quot;__ndarray__&quot;:&quot;AAAAAHA9FUAAAAAACFcoQAAAAACA6w9AAAAAAAAf1T8AAAAAQIX3PwAAAACAwg1AAAAAABDXGEAAAAAAgBQaQAAAAACo8CpAAAAAAIAUEkAAAAAAcD0eQAAAAACgHgtAAAAAAOBRAkAAAAAAMDMjQAAAAADg+ilAAAAAANDMHEAAAAAAgGb6PwAAAACgRwlAAAAAAEBm8j8AAAAAYGYWQAAAAABwPSVAAAAAAECP8j8AAAAAwPUOQAAAAAAgXA9AAAAAAOT6MEAAAAAAAI/iPwAAAAA8Sj5AAAAAAAAp+D8AAAAA8NEnQAAAAACA6+k/AAAAAChcK0AAAAAAmNkzQAAAAACOokVAAAAAAJiZLUAAAAAAzEw0QAAAAACA6wVAAAAAAKBwH0AAAAAAAK7/PwAAAADQTClAAAAAAACu7z8AAAAAcGYWQAAAAACAFAxAAAAAAGBmBEAAAAAAADTDPwAAAABAChlAAAAAAGBmEEAAAAAA6HonQA==&quot;,&quot;dtype&quot;:&quot;float64&quot;,&quot;order&quot;:&quot;little&quot;,&quot;shape&quot;:[47]},&quot;x&quot;:{&quot;__ndarray__&quot;:&quot;AAAArZgOdUIAAABE4g91QgAAANsrEXVCAACAptARdUIAAIA9GhN1QgAAQKNsE3VCAADABVsVdUIAAEDR/xV1QgAAADdSFnVCAAAAzpsXdUIAAICZQBh1QgAAQP+SGHVCAAAAZeUYdUIAAAD8Lhp1QgAAgMfTGnVCAABALSYbdUIAAEDEbxx1QgAAACrCHHVCAADAjxQddUIAAEDyAh91QgAAAFhVH3VCAAAA754gdUIAAMBU8SB1QgAAQCCWIXVCAAAAhughdUIAAEC33yJ1QgAAwIKEI3VCAABA5XIldUIAAMBHYSd1QgAAgK2zJ3VCAABAEwYodUIAAMB19Cl1QgAAgNtGKnVCAABAQZkqdUIAAACn6yp1QgAAwKOHLHVCAABAbywtdUIAAEAGdi51QgAAwNEaL3VCAADAaGQwdUIAAIDOtjB1QgAAwP+tMXVCAAAAMaUydUIAAID8STN1QgAAQGKcM3VCAAAAyO4zdUIAAED55TR1Qg==&quot;,&quot;dtype&quot;:&quot;float64&quot;,&quot;order&quot;:&quot;little&quot;,&quot;shape&quot;:[47]},&quot;y&quot;:{&quot;__ndarray__&quot;:&quot;AAAAMFy8hkAAAAAQrpiGQAAAACBcuoZAAAAAkJkUh0AAAABQuKWHQAAAAMAecYdAAAAA0KNNh0AAAADAHu2HQAAAADAzuodAAAAAgBTsh0AAAACwHpuHQAAAAHA9eYdAAAAAsB4gh0AAAACgmWGHQAAAAGBmn4dAAAAAsEc3h0AAAACgmXaHQAAAALAef4dAAAAA0Mxnh0AAAABgZi6IQAAAACCF4YdAAAAAMFwzh0AAAADAHkSHQAAAANDMwoZAAAAAEK6XhkAAAABgj2KGQAAAANCjXYZAAAAAIFz0hUAAAAAAAG2GQAAAAFCPS4ZAAAAA0KMWhkAAAACgmTSIQAAAABCuZIdAAAAAsEdbhkAAAACQwq2FQAAAAIDra4VAAAAA4KNyhUAAAACA65+FQAAAAGBm/YVAAAAA4KMXhkAAAAAwM9WFQAAAAKCZFoZAAAAAMFzYhUAAAABgZneGQAAAAGBmXIZAAAAAIIVHhkAAAABwPeiFQA==&quot;,&quot;dtype&quot;:&quot;float64&quot;,&quot;order&quot;:&quot;little&quot;,&quot;shape&quot;:[47]}},&quot;selected&quot;:{&quot;id&quot;:&quot;7930&quot;},&quot;selection_policy&quot;:{&quot;id&quot;:&quot;7931&quot;}},&quot;id&quot;:&quot;7903&quot;,&quot;type&quot;:&quot;ColumnDataSource&quot;},{&quot;attributes&quot;:{},&quot;id&quot;:&quot;7868&quot;,&quot;type&quot;:&quot;LinearScale&quot;},{&quot;attributes&quot;:{&quot;data_source&quot;:{&quot;id&quot;:&quot;7903&quot;},&quot;glyph&quot;:{&quot;id&quot;:&quot;7904&quot;},&quot;hover_glyph&quot;:null,&quot;muted_glyph&quot;:null,&quot;nonselection_glyph&quot;:{&quot;id&quot;:&quot;7905&quot;},&quot;selection_glyph&quot;:null,&quot;view&quot;:{&quot;id&quot;:&quot;7907&quot;}},&quot;id&quot;:&quot;7906&quot;,&quot;type&quot;:&quot;GlyphRenderer&quot;},{&quot;attributes&quot;:{&quot;axis&quot;:{&quot;id&quot;:&quot;7870&quot;},&quot;grid_line_alpha&quot;:0.3,&quot;ticker&quot;:null},&quot;id&quot;:&quot;7873&quot;,&quot;type&quot;:&quot;Grid&quot;},{&quot;attributes&quot;:{&quot;source&quot;:{&quot;id&quot;:&quot;7898&quot;}},&quot;id&quot;:&quot;7902&quot;,&quot;type&quot;:&quot;CDSView&quot;},{&quot;attributes&quot;:{},&quot;id&quot;:&quot;7925&quot;,&quot;type&quot;:&quot;YearsTicker&quot;},{&quot;attributes&quot;:{},&quot;id&quot;:&quot;7864&quot;,&quot;type&quot;:&quot;DataRange1d&quot;},{&quot;attributes&quot;:{&quot;data_source&quot;:{&quot;id&quot;:&quot;7898&quot;},&quot;glyph&quot;:{&quot;id&quot;:&quot;7899&quot;},&quot;hover_glyph&quot;:null,&quot;muted_glyph&quot;:null,&quot;nonselection_glyph&quot;:{&quot;id&quot;:&quot;7900&quot;},&quot;selection_glyph&quot;:null,&quot;view&quot;:{&quot;id&quot;:&quot;7902&quot;}},&quot;id&quot;:&quot;7901&quot;,&quot;type&quot;:&quot;GlyphRenderer&quot;},{&quot;attributes&quot;:{},&quot;id&quot;:&quot;7930&quot;,&quot;type&quot;:&quot;Selection&quot;},{&quot;attributes&quot;:{&quot;line_color&quot;:{&quot;value&quot;:&quot;Black&quot;},&quot;x0&quot;:{&quot;field&quot;:&quot;x0&quot;},&quot;x1&quot;:{&quot;field&quot;:&quot;x1&quot;},&quot;y0&quot;:{&quot;field&quot;:&quot;y0&quot;},&quot;y1&quot;:{&quot;field&quot;:&quot;y1&quot;}},&quot;id&quot;:&quot;7894&quot;,&quot;type&quot;:&quot;Segment&quot;},{&quot;attributes&quot;:{},&quot;id&quot;:&quot;7883&quot;,&quot;type&quot;:&quot;HelpTool&quot;},{&quot;attributes&quot;:{},&quot;id&quot;:&quot;7931&quot;,&quot;type&quot;:&quot;UnionRenderers&quot;},{&quot;attributes&quot;:{&quot;fill_alpha&quot;:{&quot;value&quot;:0.1},&quot;fill_color&quot;:{&quot;value&quot;:&quot;#FF3333&quot;},&quot;height&quot;:{&quot;field&quot;:&quot;height&quot;,&quot;units&quot;:&quot;data&quot;},&quot;line_alpha&quot;:{&quot;value&quot;:0.1},&quot;line_color&quot;:{&quot;value&quot;:&quot;blue&quot;},&quot;width&quot;:{&quot;units&quot;:&quot;data&quot;,&quot;value&quot;:43200000},&quot;x&quot;:{&quot;field&quot;:&quot;x&quot;},&quot;y&quot;:{&quot;field&quot;:&quot;y&quot;}},&quot;id&quot;:&quot;7905&quot;,&quot;type&quot;:&quot;Rect&quot;},{&quot;attributes&quot;:{&quot;overlay&quot;:{&quot;id&quot;:&quot;7884&quot;}},&quot;id&quot;:&quot;7880&quot;,&quot;type&quot;:&quot;BoxZoomTool&quot;},{&quot;attributes&quot;:{&quot;months&quot;:[0,6]},&quot;id&quot;:&quot;7924&quot;,&quot;type&quot;:&quot;MonthsTicker&quot;},{&quot;attributes&quot;:{&quot;fill_color&quot;:{&quot;value&quot;:&quot;#FF3333&quot;},&quot;height&quot;:{&quot;field&quot;:&quot;height&quot;,&quot;units&quot;:&quot;data&quot;},&quot;line_color&quot;:{&quot;value&quot;:&quot;blue&quot;},&quot;width&quot;:{&quot;units&quot;:&quot;data&quot;,&quot;value&quot;:43200000},&quot;x&quot;:{&quot;field&quot;:&quot;x&quot;},&quot;y&quot;:{&quot;field&quot;:&quot;y&quot;}},&quot;id&quot;:&quot;7904&quot;,&quot;type&quot;:&quot;Rect&quot;},{&quot;attributes&quot;:{&quot;source&quot;:{&quot;id&quot;:&quot;7903&quot;}},&quot;id&quot;:&quot;7907&quot;,&quot;type&quot;:&quot;CDSView&quot;},{&quot;attributes&quot;:{&quot;months&quot;:[0,4,8]},&quot;id&quot;:&quot;7923&quot;,&quot;type&quot;:&quot;MonthsTicker&quot;},{&quot;attributes&quot;:{&quot;data_source&quot;:{&quot;id&quot;:&quot;7893&quot;},&quot;glyph&quot;:{&quot;id&quot;:&quot;7894&quot;},&quot;hover_glyph&quot;:null,&quot;muted_glyph&quot;:null,&quot;nonselection_glyph&quot;:{&quot;id&quot;:&quot;7895&quot;},&quot;selection_glyph&quot;:null,&quot;view&quot;:{&quot;id&quot;:&quot;7897&quot;}},&quot;id&quot;:&quot;7896&quot;,&quot;type&quot;:&quot;GlyphRenderer&quot;},{&quot;attributes&quot;:{&quot;data&quot;:{&quot;x0&quot;:{&quot;__ndarray__&quot;:&quot;AADA5FcMdUIAAIBKqgx1QgAAQLD8DHVCAAAAFk8NdUIAAMB7oQ11QgAAAK2YDnVCAADAEusOdUIAAIB4PQ91QgAAQN6PD3VCAAAAROIPdUIAAEB12RB1QgAAANsrEXVCAADAQH4RdUIAAICm0BF1QgAAQAwjEnVCAACAPRoTdUIAAECjbBN1QgAAAAm/E3VCAACA1GMUdUIAAMAFWxV1QgAAgGutFXVCAABA0f8VdUIAAAA3UhZ1QgAAwJykFnVCAAAAzpsXdUIAAMAz7hd1QgAAgJlAGHVCAABA/5IYdUIAAABl5Rh1QgAAQJbcGXVCAAAA/C4adUIAAMBhgRp1QgAAgMfTGnVCAABALSYbdUIAAIBeHRx1QgAAQMRvHHVCAAAAKsIcdUIAAMCPFB11QgAAwCZeHnVCAACAjLAedUIAAEDyAh91QgAAAFhVH3VCAAAA754gdUIAAMBU8SB1QgAAgLpDIXVCAABAIJYhdUIAAACG6CF1QgAAQLffInVCAAAAHTIjdUIAAMCChCN1QgAAgOjWI3VCAABATikkdUIAAEDlciV1QgAAAEvFJXVCAADAsBcmdUIAAIAWaiZ1QgAAwEdhJ3VCAACArbMndUIAAEATBih1QgAAAHlYKHVCAADA3qoodUIAAAAQoil1QgAAwHX0KXVCAACA20YqdUIAAEBBmSp1QgAAAKfrKnVCAABA2OIrdUIAAAA+NSx1QgAAwKOHLHVCAACACdosdUIAAEBvLC11QgAAQAZ2LnVCAAAAbMgudUIAAMDRGi91QgAAgDdtL3VCAADAaGQwdUIAAIDOtjB1QgAAQDQJMXVCAAAAmlsxdUIAAMD/rTF1QgAAADGlMnVCAADAlvcydUIAAID8STN1QgAAQGKcM3VCAAAAyO4zdUIAAED55TR1QgAAAF84NXVCAADAxIo1dUIAAIAq3TV1Qg==&quot;,&quot;dtype&quot;:&quot;float64&quot;,&quot;order&quot;:&quot;little&quot;,&quot;shape&quot;:[89]},&quot;x1&quot;:{&quot;__ndarray__&quot;:&quot;AADA5FcMdUIAAIBKqgx1QgAAQLD8DHVCAAAAFk8NdUIAAMB7oQ11QgAAAK2YDnVCAADAEusOdUIAAIB4PQ91QgAAQN6PD3VCAAAAROIPdUIAAEB12RB1QgAAANsrEXVCAADAQH4RdUIAAICm0BF1QgAAQAwjEnVCAACAPRoTdUIAAECjbBN1QgAAAAm/E3VCAACA1GMUdUIAAMAFWxV1QgAAgGutFXVCAABA0f8VdUIAAAA3UhZ1QgAAwJykFnVCAAAAzpsXdUIAAMAz7hd1QgAAgJlAGHVCAABA/5IYdUIAAABl5Rh1QgAAQJbcGXVCAAAA/C4adUIAAMBhgRp1QgAAgMfTGnVCAABALSYbdUIAAIBeHRx1QgAAQMRvHHVCAAAAKsIcdUIAAMCPFB11QgAAwCZeHnVCAACAjLAedUIAAEDyAh91QgAAAFhVH3VCAAAA754gdUIAAMBU8SB1QgAAgLpDIXVCAABAIJYhdUIAAACG6CF1QgAAQLffInVCAAAAHTIjdUIAAMCChCN1QgAAgOjWI3VCAABATikkdUIAAEDlciV1QgAAAEvFJXVCAADAsBcmdUIAAIAWaiZ1QgAAwEdhJ3VCAACArbMndUIAAEATBih1QgAAAHlYKHVCAADA3qoodUIAAAAQoil1QgAAwHX0KXVCAACA20YqdUIAAEBBmSp1QgAAAKfrKnVCAABA2OIrdUIAAAA+NSx1QgAAwKOHLHVCAACACdosdUIAAEBvLC11QgAAQAZ2LnVCAAAAbMgudUIAAMDRGi91QgAAgDdtL3VCAADAaGQwdUIAAIDOtjB1QgAAQDQJMXVCAAAAmlsxdUIAAMD/rTF1QgAAADGlMnVCAADAlvcydUIAAID8STN1QgAAQGKcM3VCAAAAyO4zdUIAAED55TR1QgAAAF84NXVCAADAxIo1dUIAAIAq3TV1Qg==&quot;,&quot;dtype&quot;:&quot;float64&quot;,&quot;order&quot;:&quot;little&quot;,&quot;shape&quot;:[89]},&quot;y0&quot;:{&quot;__ndarray__&quot;:&quot;AAAAwPWMhkAAAABAM6WGQAAAAMDM6IZAAAAAANcbh0AAAACgR/uGQAAAACCu9YZAAAAAYLjUhkAAAAAAACiHQAAAAGBmDodAAAAAQDPZhkAAAACA68uGQAAAAIDC3oZAAAAAoEcrh0AAAAAAADCHQAAAACBcr4dAAAAAAKrVh0AAAABgO5qHQAAAAAAAgIdAAAAAoEeLh0AAAACgcJeHQAAAAKCZB4hAAAAA4KM/iEAAAADA9QeIQAAAAIDrA4hAAAAAANcFiEAAAABgZuaHQAAAAADX4YdAAAAAwMyeh0AAAAAgrk2HQAAAAADXZYdAAAAA4KOwh0AAAABguMSHQAAAAKBw1YdAAAAAQAqRh0AAAAAAAHCHQAAAAMDMlodAAAAAIK6Rh0AAAADAzHqHQAAAAIDr14dAAAAAANdfiEAAAADAzEyIQAAAAAAADIhAAAAA4HpAh0AAAAAAAICHQAAAAKBwWYdAAAAAAAAUh0AAAAAA1+mGQAAAAADXdoZAAAAAAADGhkAAAACA6/WGQAAAAGBmj4ZAAAAAgOsVhkAAAAAA1y+GQAAAAMDMFoZAAAAAIIV5hkAAAABACsGGQAAAAKBwzYZAAAAAgD1yhkAAAABA4XGGQAAAACCF7YZAAAAAgOtHh0AAAABA4a6HQAAAAMD1rohAAAAAAAA0iEAAAAAAALiGQAAAAIDr/4VAAAAAgD1ghUAAAABAM9+FQAAAAOB66oVAAAAAwMyKhUAAAAAAAK6FQAAAAAAA0IVAAAAAAAAuhkAAAADAzEKGQAAAAOCl+IVAAAAAgOtJhkAAAABAMyOGQAAAAAAA4IVAAAAAANcPhkAAAACgcEuGQAAAAMAeN4ZAAAAA4Hp2hkAAAAAAAICGQAAAAKCZe4ZAAAAAgOtjhkAAAABguiCGQAAAAOBR/oVAAAAAoHANhkAAAAAghWOGQA==&quot;,&quot;dtype&quot;:&quot;float64&quot;,&quot;order&quot;:&quot;little&quot;,&quot;shape&quot;:[89]},&quot;y1&quot;:{&quot;__ndarray__&quot;:&quot;AAAAwMwOhkAAAACAwlWGQAAAAEAzj4ZAAAAAgMLLhkAAAACAFLiGQAAAAKBwe4ZAAAAAAAB0hkAAAAAA19GGQAAAAAApxYZAAAAAANdlhkAAAADgozqGQAAAAEA3mIZAAAAAAAC4hkAAAACgcAuHQAAAAAAAOIdAAAAAYI9+h0AAAABACg2HQAAAAOB6UIdAAAAAgOtbh0AAAAAAKSqHQAAAAKCZVYdAAAAAIK63h0AAAABACk2HQAAAAAAAcIdAAAAAYLiYh0AAAACgmZGHQAAAAAACCIdAAAAA4KM+h0AAAAAAAAaHQAAAACBcoYZAAAAAgBQ4h0AAAADgehuHQAAAAAAAaIdAAAAAQDMRh0AAAAAAACCHQAAAAIA9TIdAAAAAAABAh0AAAADA9VSHQAAAAAApbIdAAAAAoHDzh0AAAABAM/eHQAAAAGC4sodAAAAAYBDahkAAAADAHhWHQAAAACBcx4ZAAAAA4Hp4hkAAAAAAAEiGQAAAAOBR/IVAAAAAQIlqhkAAAABA4dSFQAAAAMDMiIVAAAAAwPVqhUAAAACgR6uFQAAAAIAUCoVAAAAAIK6zhUAAAADA94CGQAAAAIAUMIZAAAAAANcThkAAAADAHrOFQAAAAMDMQoZAAAAAYGa2hkAAAAAAKTqHQAAAAEAz5YdAAAAAAACEhkAAAABA4e6FQAAAAEAzQYVAAAAA4Hq4hEAAAAAAKeaEQAAAAEAKUYVAAAAAoPHmhEAAAADAzDSFQAAAAGBmaIVAAAAAQAqbhUAAAACAPcCFQAAAAGBmsIVAAAAAgBT0hUAAAADgo6yFQAAAAIA9RoVAAAAAIK6UhUAAAABA4eaFQAAAAKBwzYVAAAAAACnehUAAAAAAAECGQAAAAAApEIZAAAAAACkQhkAAAABAM3eFQAAAAGC4aoVAAAAAAACwhUAAAABA4fqFQA==&quot;,&quot;dtype&quot;:&quot;float64&quot;,&quot;order&quot;:&quot;little&quot;,&quot;shape&quot;:[89]}},&quot;selected&quot;:{&quot;id&quot;:&quot;7926&quot;},&quot;selection_policy&quot;:{&quot;id&quot;:&quot;7927&quot;}},&quot;id&quot;:&quot;7893&quot;,&quot;type&quot;:&quot;ColumnDataSource&quot;},{&quot;attributes&quot;:{&quot;axis&quot;:{&quot;id&quot;:&quot;7874&quot;},&quot;dimension&quot;:1,&quot;grid_line_alpha&quot;:0.3,&quot;ticker&quot;:null},&quot;id&quot;:&quot;7877&quot;,&quot;type&quot;:&quot;Grid&quot;},{&quot;attributes&quot;:{&quot;line_alpha&quot;:{&quot;value&quot;:0.1},&quot;line_color&quot;:{&quot;value&quot;:&quot;Black&quot;},&quot;x0&quot;:{&quot;field&quot;:&quot;x0&quot;},&quot;x1&quot;:{&quot;field&quot;:&quot;x1&quot;},&quot;y0&quot;:{&quot;field&quot;:&quot;y0&quot;},&quot;y1&quot;:{&quot;field&quot;:&quot;y1&quot;}},&quot;id&quot;:&quot;7895&quot;,&quot;type&quot;:&quot;Segment&quot;},{&quot;attributes&quot;:{&quot;text&quot;:&quot;Candlestick Chart&quot;},&quot;id&quot;:&quot;7892&quot;,&quot;type&quot;:&quot;Title&quot;},{&quot;attributes&quot;:{},&quot;id&quot;:&quot;7866&quot;,&quot;type&quot;:&quot;LinearScale&quot;},{&quot;attributes&quot;:{&quot;mantissas&quot;:[1,2,5],&quot;max_interval&quot;:500.0,&quot;num_minor_ticks&quot;:0},&quot;id&quot;:&quot;7914&quot;,&quot;type&quot;:&quot;AdaptiveTicker&quot;},{&quot;attributes&quot;:{},&quot;id&quot;:&quot;7881&quot;,&quot;type&quot;:&quot;SaveTool&quot;},{&quot;attributes&quot;:{&quot;months&quot;:[0,1,2,3,4,5,6,7,8,9,10,11]},&quot;id&quot;:&quot;7921&quot;,&quot;type&quot;:&quot;MonthsTicker&quot;},{&quot;attributes&quot;:{&quot;base&quot;:60,&quot;mantissas&quot;:[1,2,5,10,15,20,30],&quot;max_interval&quot;:1800000.0,&quot;min_interval&quot;:1000.0,&quot;num_minor_ticks&quot;:0},&quot;id&quot;:&quot;7915&quot;,&quot;type&quot;:&quot;AdaptiveTicker&quot;},{&quot;attributes&quot;:{&quot;days&quot;:[1,2,3,4,5,6,7,8,9,10,11,12,13,14,15,16,17,18,19,20,21,22,23,24,25,26,27,28,29,30,31]},&quot;id&quot;:&quot;7917&quot;,&quot;type&quot;:&quot;DaysTicker&quot;},{&quot;attributes&quot;:{&quot;bottom_units&quot;:&quot;screen&quot;,&quot;fill_alpha&quot;:0.5,&quot;fill_color&quot;:&quot;lightgrey&quot;,&quot;left_units&quot;:&quot;screen&quot;,&quot;level&quot;:&quot;overlay&quot;,&quot;line_alpha&quot;:1.0,&quot;line_color&quot;:&quot;black&quot;,&quot;line_dash&quot;:[4,4],&quot;line_width&quot;:2,&quot;right_units&quot;:&quot;screen&quot;,&quot;top_units&quot;:&quot;screen&quot;},&quot;id&quot;:&quot;7884&quot;,&quot;type&quot;:&quot;BoxAnnotation&quot;},{&quot;attributes&quot;:{&quot;base&quot;:24,&quot;mantissas&quot;:[1,2,4,6,8,12],&quot;max_interval&quot;:43200000.0,&quot;min_interval&quot;:3600000.0,&quot;num_minor_ticks&quot;:0},&quot;id&quot;:&quot;7916&quot;,&quot;type&quot;:&quot;AdaptiveTicker&quot;},{&quot;attributes&quot;:{},&quot;id&quot;:&quot;7879&quot;,&quot;type&quot;:&quot;WheelZoomTool&quot;},{&quot;attributes&quot;:{&quot;source&quot;:{&quot;id&quot;:&quot;7893&quot;}},&quot;id&quot;:&quot;7897&quot;,&quot;type&quot;:&quot;CDSView&quot;},{&quot;attributes&quot;:{&quot;active_drag&quot;:&quot;auto&quot;,&quot;active_inspect&quot;:&quot;auto&quot;,&quot;active_multi&quot;:null,&quot;active_scroll&quot;:&quot;auto&quot;,&quot;active_tap&quot;:&quot;auto&quot;,&quot;tools&quot;:[{&quot;id&quot;:&quot;7878&quot;},{&quot;id&quot;:&quot;7879&quot;},{&quot;id&quot;:&quot;7880&quot;},{&quot;id&quot;:&quot;7881&quot;},{&quot;id&quot;:&quot;7882&quot;},{&quot;id&quot;:&quot;7883&quot;}]},&quot;id&quot;:&quot;7885&quot;,&quot;type&quot;:&quot;Toolbar&quot;},{&quot;attributes&quot;:{},&quot;id&quot;:&quot;7882&quot;,&quot;type&quot;:&quot;ResetTool&quot;}],&quot;root_ids&quot;:[&quot;7861&quot;]},&quot;title&quot;:&quot;Bokeh Application&quot;,&quot;version&quot;:&quot;2.1.1&quot;}}';\n",
      "                var render_items = [{\"docid\":\"907a7421-28e1-435d-9098-eb5c6400cdf0\",\"root_ids\":[\"7861\"],\"roots\":{\"7861\":\"661cbc4e-786d-420b-8fb9-1a41a0a25520\"}}];\n",
      "                root.Bokeh.embed.embed_items(docs_json, render_items);\n",
      "              \n",
      "                }\n",
      "                if (root.Bokeh !== undefined) {\n",
      "                  embed_document(root);\n",
      "                } else {\n",
      "                  var attempts = 0;\n",
      "                  var timer = setInterval(function(root) {\n",
      "                    if (root.Bokeh !== undefined) {\n",
      "                      clearInterval(timer);\n",
      "                      embed_document(root);\n",
      "                    } else {\n",
      "                      attempts++;\n",
      "                      if (attempts > 100) {\n",
      "                        clearInterval(timer);\n",
      "                        console.log(\"Bokeh: ERROR: Unable to run BokehJS code because BokehJS library is missing\");\n",
      "                      }\n",
      "                    }\n",
      "                  }, 10, root)\n",
      "                }\n",
      "              })(window);\n",
      "            });\n",
      "          };\n",
      "          if (document.readyState != \"loading\") fn();\n",
      "          else document.addEventListener(\"DOMContentLoaded\", fn);\n",
      "        })();\n",
      "</script>\n"
     ]
    }
   ],
   "source": [
    "print(script1)"
   ]
  },
  {
   "cell_type": "code",
   "execution_count": 69,
   "metadata": {
    "scrolled": true
   },
   "outputs": [
    {
     "name": "stdout",
     "output_type": "stream",
     "text": [
      "\n",
      "<div class=\"bk-root\" id=\"661cbc4e-786d-420b-8fb9-1a41a0a25520\" data-root-id=\"7861\"></div>\n"
     ]
    }
   ],
   "source": [
    "print(div1)"
   ]
  },
  {
   "cell_type": "code",
   "execution_count": 71,
   "metadata": {},
   "outputs": [
    {
     "data": {
      "text/plain": [
       "'https://cdn.bokeh.org/bokeh/release/bokeh-2.1.1.min.js'"
      ]
     },
     "execution_count": 71,
     "metadata": {},
     "output_type": "execute_result"
    }
   ],
   "source": [
    "cdn_js[0]"
   ]
  },
  {
   "cell_type": "code",
   "execution_count": 74,
   "metadata": {
    "scrolled": true
   },
   "outputs": [
    {
     "data": {
      "text/plain": [
       "[]"
      ]
     },
     "execution_count": 74,
     "metadata": {},
     "output_type": "execute_result"
    }
   ],
   "source": []
  }
 ],
 "metadata": {
  "kernelspec": {
   "display_name": "Python 3",
   "language": "python",
   "name": "python3"
  },
  "language_info": {
   "codemirror_mode": {
    "name": "ipython",
    "version": 3
   },
   "file_extension": ".py",
   "mimetype": "text/x-python",
   "name": "python",
   "nbconvert_exporter": "python",
   "pygments_lexer": "ipython3",
   "version": "3.8.3"
  }
 },
 "nbformat": 4,
 "nbformat_minor": 4
}
